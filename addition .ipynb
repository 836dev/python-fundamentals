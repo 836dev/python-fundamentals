{
 "cells": [
  {
   "cell_type": "code",
   "execution_count": 1,
   "id": "45c8c541",
   "metadata": {},
   "outputs": [
    {
     "name": "stdout",
     "output_type": "stream",
     "text": [
      "Addition: 30\n"
     ]
    }
   ],
   "source": [
    "a=10\n",
    "b=20\n",
    "c=a+b\n",
    "print(\"Addition:\",c)\n"
   ]
  },
  {
   "cell_type": "code",
   "execution_count": 2,
   "id": "054c1283",
   "metadata": {},
   "outputs": [
    {
     "name": "stdout",
     "output_type": "stream",
     "text": [
      "Enter A:10\n",
      "Enter B:20\n",
      "Addition: 30\n"
     ]
    }
   ],
   "source": [
    "a=int(input(\"Enter A:\"))\n",
    "b=int(input(\"Enter B:\"))\n",
    "c=a+b\n",
    "print(\"Addition:\",c)"
   ]
  },
  {
   "cell_type": "code",
   "execution_count": 3,
   "id": "e5397b4a",
   "metadata": {},
   "outputs": [
    {
     "name": "stdout",
     "output_type": "stream",
     "text": [
      "Enter A: 50\n",
      "Enter B: 20\n",
      "Subtraction: 30\n"
     ]
    }
   ],
   "source": [
    "a=int(input(\"Enter A: \"))\n",
    "b=int(input(\"Enter B: \"))\n",
    "c=a - b\n",
    "print(\"Subtraction:\" ,c)"
   ]
  },
  {
   "cell_type": "code",
   "execution_count": 4,
   "id": "9480f180",
   "metadata": {},
   "outputs": [
    {
     "name": "stdout",
     "output_type": "stream",
     "text": [
      "Enter A: 50\n",
      "Enter B: 20\n",
      "Addition:  70\n",
      "Subtarction: 30\n",
      "Multiplication: 1000\n"
     ]
    }
   ],
   "source": [
    "a=int(input(\"Enter A: \"))\n",
    "b=int(input(\"Enter B: \"))\n",
    "c=a+b\n",
    "print(\"Addition: \",c)\n",
    "c=a-b\n",
    "print(\"Subtarction:\",c)\n",
    "c=a*b\n",
    "print(\"Multiplication:\",c)"
   ]
  },
  {
   "cell_type": "code",
   "execution_count": null,
   "id": "7de17b06",
   "metadata": {},
   "outputs": [],
   "source": []
  }
 ],
 "metadata": {
  "kernelspec": {
   "display_name": "Python 3 (ipykernel)",
   "language": "python",
   "name": "python3"
  },
  "language_info": {
   "codemirror_mode": {
    "name": "ipython",
    "version": 3
   },
   "file_extension": ".py",
   "mimetype": "text/x-python",
   "name": "python",
   "nbconvert_exporter": "python",
   "pygments_lexer": "ipython3",
   "version": "3.9.7"
  }
 },
 "nbformat": 4,
 "nbformat_minor": 5
}
